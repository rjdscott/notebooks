{
 "metadata": {
  "name": "",
  "signature": "sha256:dd4525065e4916fa8403f01b463de236a26cb4d226574b8656590b756b72748d"
 },
 "nbformat": 3,
 "nbformat_minor": 0,
 "worksheets": [
  {
   "cells": [
    {
     "cell_type": "markdown",
     "metadata": {},
     "source": [
      "# MONTE CARLO SIMULATOR: Standard Pricing and Performance (Python)\n",
      "---\n",
      "#### The purpose if this notebook is to\n",
      "<ol> \n",
      "    <li> Demonstrate the pricing Model Calculations</li>\n",
      "    <li> Variable inputs, Pricing Outputs and Computational Performance</li>\n",
      " </ol>"
     ]
    },
    {
     "cell_type": "code",
     "collapsed": false,
     "input": [
      "import numpy as np\n",
      "from timeit import default_timer as timer\n",
      "from matplotlib import pyplot\n",
      "import math"
     ],
     "language": "python",
     "metadata": {},
     "outputs": [],
     "prompt_number": 1
    },
    {
     "cell_type": "code",
     "collapsed": false,
     "input": [
      "def step_numpy(dt, prices, c0, c1, noises):\n",
      "    return prices * np.exp(c0 * dt, + c1 * noises)\n",
      "\n",
      "def mc_numpy(paths, dt, interest, volatility):\n",
      "    c0 = interest - 0.5 * volatility ** 2\n",
      "    c1 = volatility * np.sqrt(dt)\n",
      "    \n",
      "    for j in xrange(1, paths.shape[1]):\n",
      "        prices = paths[:, j - 1]\n",
      "        noises = np.random.normal(0., 1., prices.size)\n",
      "        paths[:, j] = step_numpy(dt, prices, c0, c1, noises)"
     ],
     "language": "python",
     "metadata": {},
     "outputs": [],
     "prompt_number": 2
    },
    {
     "cell_type": "code",
     "collapsed": false,
     "input": [
      "# Stock parameter\n",
      "\n",
      "StockPrice = 20.83\n",
      "StrikePrice = 21.50\n",
      "Volatility = 0.021\n",
      "InterestRate = 0.20\n",
      "Maturity = 5. / 12.\n",
      "\n",
      "# Monte-Carlo parameter\n",
      "\n",
      "NumPath = 3000000\n",
      "NumStep = 100\n",
      "\n",
      "# Plotting\n",
      "\n",
      "MAX_PATH_IN_PLOT = 50"
     ],
     "language": "python",
     "metadata": {},
     "outputs": [],
     "prompt_number": 3
    },
    {
     "cell_type": "code",
     "collapsed": false,
     "input": [
      "# the Driver\n",
      "\n",
      "def driver(pricer, do_plot=False):\n",
      "    paths = np.zeros((NumPath, NumStep + 1), order='F')\n",
      "    paths[:, 0] = StockPrice\n",
      "    DT = Maturity / NumStep\n",
      "    \n",
      "    ts = timer()\n",
      "    pricer(paths, DT, InterestRate, Volatility)\n",
      "    te = timer()\n",
      "    elapsed = te - ts\n",
      "    \n",
      "    ST = paths[:, -1]\n",
      "    PaidOff = np.maximum(paths[:, -1] - StrikePrice, 0)\n",
      "    print 'Result'\n",
      "    fmt = '%20s: %s'\n",
      "    print fmt % ('Stock Price', np.mean(ST))\n",
      "    print fmt % ('Standard Error', np.std(ST) / math.sqrt(NumPath))\n",
      "    print fmt % ('paid off', np.mean(PaidOff))\n",
      "    optionprice = np.mean(PaidOff) * math.exp(-InterestRate * Maturity)\n",
      "    print fmt % ('Option Price', optionprice)\n",
      "    \n",
      "    print 'Performance'\n",
      "    NumCompute = NumPath * NumStep\n",
      "    print fmt % ('Mstep/second', '%.2f' % (NumCompute / elapsed / 1e6))\n",
      "    print fmt % ('Time elapsed', '%.3fs' % (te - ts))\n",
      "    \n",
      "    if do_plot:\n",
      "        pathct = min(NumPath, MAX_PATH_IN_PLOT)\n",
      "        for i in xrange(pathct):\n",
      "            pyplot.plot(paths[i])\n",
      "        print 'Plotting %d/%d paths' % (pathct, NumPath)\n",
      "        pyplot.show()\n",
      "    return elapsed    \n"
     ],
     "language": "python",
     "metadata": {},
     "outputs": [],
     "prompt_number": 4
    },
    {
     "cell_type": "code",
     "collapsed": false,
     "input": [
      "numpy_time = driver(mc_numpy, do_plot=True)"
     ],
     "language": "python",
     "metadata": {},
     "outputs": [
      {
       "output_type": "stream",
       "stream": "stdout",
       "text": [
        "Result\n",
        "         Stock Price: 22.6381313786\n",
        "      Standard Error: 5.50256541881e-13\n",
        "            paid off: 1.13813137772\n",
        "        Option Price: 1.04713141718\n",
        "Performance\n",
        "        Mstep/second: 17.65\n",
        "        Time elapsed: 16.995s\n",
        "Plotting 50/3000000 paths"
       ]
      },
      {
       "output_type": "stream",
       "stream": "stdout",
       "text": [
        "\n"
       ]
      }
     ],
     "prompt_number": 5
    }
   ],
   "metadata": {}
  }
 ]
}