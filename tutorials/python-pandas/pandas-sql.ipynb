{
 "cells": [
  {
   "cell_type": "markdown",
   "metadata": {},
   "source": [
    "# Pandas + SQL\n",
    "This notebook will run through how to use Python, pandas and sql with a couple examples.\n",
    "\n",
    "First of all we need to set-up our virtual environment, install the required modules and import into this project.\n",
    "\n",
    "``` bash\n",
    "$ virtualenv .env\n",
    "$ source .env/bin/activate\n",
    "$ (.env) pip install pandas\n",
    "```\n",
    "\n",
    "If you're using python >3.3 sqlite3 will already be included in the standard library so no need to pip install."
   ]
  },
  {
   "cell_type": "code",
   "execution_count": 1,
   "metadata": {},
   "outputs": [],
   "source": [
    "import pandas\n",
    "import sqlite3"
   ]
  },
  {
   "cell_type": "markdown",
   "metadata": {},
   "source": [
    "## Example 1: Storing data in database\n",
    "We will be creating a pandas DataFrame and storing the data in a sqlite3 database. This process is helpful for taking tabular data either from the web, excel, csv or reading from another database and soring it in your database with ease.\n",
    "\n",
    "For further reading on Pandas please see:\n",
    "* ..insert link to pandas intro..\n",
    "* https://pandas.pydata.org/pandas-docs/stable/generated/pandas.DataFrame.to_sql.html\n",
    "* http://pandas.pydata.org/pandas-docs/version/0.23.4/generated/pandas.DataFrame.html\n",
    "\n",
    "For Further reading on SQLite3:\n",
    "* https://www.sqlite.org/lang.html\n",
    "* https://www.sqlite.org/datatype3.html\n",
    "\n",
    "### Setup example DataFrame"
   ]
  },
  {
   "cell_type": "code",
   "execution_count": 8,
   "metadata": {},
   "outputs": [
    {
     "name": "stdout",
     "output_type": "stream",
     "text": [
      "            bhp  nab  rio\n",
      "2018-01-01  100  120  120\n",
      "2018-02-01  110  130  130\n",
      "2018-03-01  125  140  160\n",
      "2018-04-01  130  150  140\n",
      "            bhp  nab  rio\n",
      "2018-05-01  135  170  150\n",
      "2018-06-01  150  160  130\n",
      "2018-07-01  155  150  120\n",
      "2018-08-01  160  150  110\n"
     ]
    }
   ],
   "source": [
    "data1 = {'bhp':[100,110,125,130],\n",
    "        'nab':[120,130,140,150],\n",
    "        'rio':[120,130,160,140]}\n",
    "\n",
    "data2 = {'bhp':[135,150,155,160],\n",
    "        'nab':[170,160,150,150],\n",
    "        'rio':[150,130,120,110]}\n",
    "\n",
    "dates1 = ['2018-01-01','2018-02-01','2018-03-01','2018-04-01']\n",
    "dates2 = ['2018-05-01','2018-06-01','2018-07-01','2018-08-01']\n",
    "df1 = pandas.DataFrame(data=data1, index=dates1)\n",
    "df2 = pandas.DataFrame(data=data2, index=dates2)\n",
    "print(df1)\n",
    "print(df2)"
   ]
  },
  {
   "cell_type": "markdown",
   "metadata": {},
   "source": [
    "### Store DataFrame in SQLite3\n",
    "Pandas has the ability to store data in a variety of databases, including Postgres, MySQL and other relational databases. In this case we will be using SQLite3.\n",
    "\n",
    "SQLite3 is a lightweight database that stored data on the disk as a flat file, or in memory. It has native python bindings and is exceptionally easy to use given there is no need to connect to a server, and relatively fast (using read-write speeds) as it is written in C++ and stored locally.\n",
    "\n",
    "To begin, we need to open a database connection. We will use pythons context manager `with <expression> as <name>:` to save time. To view more on context managers please see ....link.... \n",
    "\n",
    "We will then use `pandas.to_sql()` to insert the DataFrame into the **SQLite3** databse. to ensure this is done properly we have a number of function inputs we can use:\n",
    "* name: string -  Name of SQL table\n",
    "* con: connection - database connections\n",
    "* if_exists: string {'append', 'replace', or 'fail'} - if data exists do you want to replace all data with new data in DataFrame, or would you like to append (i.e. add data as additional rows)\n",
    "* index: boolean, default True - write DataFrame index as a column\n",
    "\n",
    "We will then read data from the database and store into another DataFrame using the `pandas.read_sql()` functionality."
   ]
  },
  {
   "cell_type": "code",
   "execution_count": 12,
   "metadata": {},
   "outputs": [
    {
     "name": "stdout",
     "output_type": "stream",
     "text": [
      "        index  bhp  nab  rio\n",
      "0  2018-01-01  100  120  120\n",
      "1  2018-02-01  110  130  130\n",
      "2  2018-03-01  125  140  160\n",
      "3  2018-04-01  130  150  140\n",
      "4  2018-05-01  135  170  150\n",
      "5  2018-06-01  150  160  130\n",
      "6  2018-07-01  155  150  120\n",
      "7  2018-08-01  160  150  110\n"
     ]
    }
   ],
   "source": [
    "db_path = 'pandas-sql.db'\n",
    "table_name = 'sec_prices'\n",
    "\n",
    "# if you want to play around with appending data and replacoing, change the below variable\n",
    "append_replace = 'append'\n",
    "\n",
    "sql = 'select * from {}'.format(table_name)\n",
    "\n",
    "with sqlite3.connect(db_path) as conn:\n",
    "    df1.to_sql(name=table_name, con=conn, if_exists='replace')\n",
    "    df2.to_sql(name=table_name, con=conn, if_exists='append')\n",
    "    \n",
    "    df3 = pandas.read_sql(sql, conn)\n",
    "\n",
    "print(df3)"
   ]
  }
 ],
 "metadata": {
  "kernelspec": {
   "display_name": "Python 3",
   "language": "python",
   "name": "python3"
  },
  "language_info": {
   "codemirror_mode": {
    "name": "ipython",
    "version": 3
   },
   "file_extension": ".py",
   "mimetype": "text/x-python",
   "name": "python",
   "nbconvert_exporter": "python",
   "pygments_lexer": "ipython3",
   "version": "3.6.5"
  }
 },
 "nbformat": 4,
 "nbformat_minor": 2
}
