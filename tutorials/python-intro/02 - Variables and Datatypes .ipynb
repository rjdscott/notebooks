{
 "cells": [
  {
   "cell_type": "markdown",
   "metadata": {},
   "source": [
    "# Python + SQL Tutorial\n",
    "## Variables and DataTypes\n",
    "\n",
    "Unlike many other languages, python does not require programmers to declare a variable before using it. For this reason we can set variables as such:"
   ]
  },
  {
   "cell_type": "code",
   "execution_count": 3,
   "metadata": {},
   "outputs": [
    {
     "name": "stdout",
     "output_type": "stream",
     "text": [
      "95\n",
      "Roberto\n"
     ]
    }
   ],
   "source": [
    "x = 95\n",
    "y = 'Roberto'\n",
    "print(x)\n",
    "print(y)"
   ]
  },
  {
   "cell_type": "markdown",
   "metadata": {},
   "source": [
    "### Naming Variables\n",
    "\n",
    "You can use short names to define variables (like `x` and `y` above) however, it is better to use more descriptive names.\n",
    "\n",
    "There are a couple rules imposed on us when naming variables:\n",
    "* must start with letter or underscore\n",
    "* cannot start with number\n",
    "* can only contain aplha numeric characters and underscores\n",
    "* are case sensitive (Height, HEIGHT and height are all different)"
   ]
  },
  {
   "cell_type": "code",
   "execution_count": 10,
   "metadata": {},
   "outputs": [
    {
     "name": "stdout",
     "output_type": "stream",
     "text": [
      "95\n",
      "Roberto\n"
     ]
    }
   ],
   "source": [
    "height = 95\n",
    "name = 'Roberto'\n",
    "print(height)\n",
    "print(name)"
   ]
  },
  {
   "cell_type": "markdown",
   "metadata": {},
   "source": [
    "### Variables and DataTypes\n",
    "\n",
    "When programming, you mostly work with data and the type of data is important and can dictate what you can do with (mutate) the data. In the above example, the variable `height` is of type `int` which is an integer. Conversly `name` is of type `str` which is a string. \n",
    "\n",
    "In cases where data types dictate what you do is when doing simple operations on variables. \n",
    "\n",
    "lets look at a few examples using simple addition. "
   ]
  },
  {
   "cell_type": "code",
   "execution_count": 5,
   "metadata": {},
   "outputs": [
    {
     "name": "stdout",
     "output_type": "stream",
     "text": [
      "105\n"
     ]
    }
   ],
   "source": [
    "print(height + 10)"
   ]
  },
  {
   "cell_type": "code",
   "execution_count": 6,
   "metadata": {},
   "outputs": [
    {
     "name": "stdout",
     "output_type": "stream",
     "text": [
      "Roberto is awesome\n"
     ]
    }
   ],
   "source": [
    "print(name + ' is awesome')"
   ]
  },
  {
   "cell_type": "markdown",
   "metadata": {},
   "source": [
    "Now this works well when we are adding similar data types to our variables, but this will not work when they are different."
   ]
  },
  {
   "cell_type": "code",
   "execution_count": 9,
   "metadata": {},
   "outputs": [
    {
     "ename": "TypeError",
     "evalue": "unsupported operand type(s) for +: 'int' and 'str'",
     "output_type": "error",
     "traceback": [
      "\u001b[0;31m---------------------------------------------------------------------------\u001b[0m",
      "\u001b[0;31mTypeError\u001b[0m                                 Traceback (most recent call last)",
      "\u001b[0;32m<ipython-input-9-b0139b7d7d22>\u001b[0m in \u001b[0;36m<module>\u001b[0;34m()\u001b[0m\n\u001b[0;32m----> 1\u001b[0;31m \u001b[0mprint\u001b[0m\u001b[0;34m(\u001b[0m\u001b[0mheight\u001b[0m \u001b[0;34m+\u001b[0m \u001b[0;34m' blue'\u001b[0m\u001b[0;34m)\u001b[0m\u001b[0;34m\u001b[0m\u001b[0m\n\u001b[0m",
      "\u001b[0;31mTypeError\u001b[0m: unsupported operand type(s) for +: 'int' and 'str'"
     ]
    }
   ],
   "source": [
    "print(height + ' blue')"
   ]
  },
  {
   "cell_type": "markdown",
   "metadata": {},
   "source": [
    "As we can see, the types do not match and this will cause python to throw an error.\n",
    "\n",
    "for cases where you want to insert a numerical value into a string, you can use special python functions to convert numerical values to strings and insert. The best way to do this is to create a string and use `{}` as a placeholder then wigh the `.format("
   ]
  },
  {
   "cell_type": "code",
   "execution_count": null,
   "metadata": {},
   "outputs": [],
   "source": [
    "\n",
    "print('{n} is {h}cm tall'.format(n=name, h=height))"
   ]
  }
 ],
 "metadata": {
  "kernelspec": {
   "display_name": "Python 3",
   "language": "python",
   "name": "python3"
  },
  "language_info": {
   "codemirror_mode": {
    "name": "ipython",
    "version": 3
   },
   "file_extension": ".py",
   "mimetype": "text/x-python",
   "name": "python",
   "nbconvert_exporter": "python",
   "pygments_lexer": "ipython3",
   "version": "3.6.5"
  }
 },
 "nbformat": 4,
 "nbformat_minor": 2
}
