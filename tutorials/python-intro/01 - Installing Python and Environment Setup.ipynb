{
 "cells": [
  {
   "cell_type": "markdown",
   "metadata": {},
   "source": [
    "# Python + SQL Tutorial\n",
    "\n",
    "## 01 - Install Python and Setup Environment\n",
    "\n",
    "### Windows Users\n",
    "On a windows machine you have two options, installing python manually yourself, or using a python distribution manager such as Anaconda. \n",
    "\n",
    "#### Anaconda:\n",
    "Anaconda is probably the easiest and would be best for beginners, however, you trade off customisation and lower level control. It also looks after installing Jupyter and manages your packages,\n",
    "\n",
    "1. Download Anaconda: https://www.anaconda.com/download/#windows\n",
    "\n",
    "\n",
    "#### To install python yourself:\n",
    "By installing everything yourself you do get the ability to create virtual environments for which ever projext you wish and you can also have more complex package dependancies.\n",
    "\n",
    "1. Install Python: latest python 3.6 version from https://www.python.org/downloads/ or https://www.python.org/downloads/release/python-367/\n",
    "\n",
    "\n",
    "2. Install pip: (python package manager) This may not come with the initial python distribution so requires an additional install.\n",
    "https://github.com/BurntSushi/nfldb/wiki/Python-&-pip-Windows-installation\n",
    "\n",
    "\n",
    "3. Create a virtual environment. You would get in the habbit of creating a virtual environment for each project since there can be a number of module/dependency clashes. The most popular are:\n",
    "    * `virtualenv`\n",
    "    * `pipenv`.\n",
    "\n",
    "\n",
    "### Setup IDE and Jupyter Notebooks\n",
    "\n",
    "#### IDE (Intrgrated Development Environment)\n",
    "This is where you will be writing and debugging your code. there are a number of different styles and products to choose from and has been at the forefront of debate between programmers since before dinosaurs.\n",
    "\n",
    "For python developers, the most popular are:\n",
    "* PyCharm: https://www.jetbrains.com/pycharm/\n",
    "* VSCode: https://code.visualstudio.com/\n",
    "* Notepad++: https://notepad-plus-plus.org/download/v7.5.9.html\n",
    "* Vim: https://www.vim.org/git.php\n",
    "\n",
    "#### Jypyter Notebooks\n",
    "If you went the self install path and have have python and pip installed, you can get jupyter by activating your virtual environment, `pip install jupyter`, then acivate using `jupyter notebook` to open up the directory in jupyter kernel.\n",
    "``` bash\n",
    "$ cd projectfolder\n",
    "$ virtualenv .env\n",
    "$ source .env/bin/activate\n",
    "(.env) $ pip install jupyter \n",
    "(.env) $ jupyter notebook\n",
    "```"
   ]
  },
  {
   "cell_type": "code",
   "execution_count": null,
   "metadata": {},
   "outputs": [],
   "source": []
  }
 ],
 "metadata": {
  "kernelspec": {
   "display_name": "Python 3",
   "language": "python",
   "name": "python3"
  },
  "language_info": {
   "codemirror_mode": {
    "name": "ipython",
    "version": 3
   },
   "file_extension": ".py",
   "mimetype": "text/x-python",
   "name": "python",
   "nbconvert_exporter": "python",
   "pygments_lexer": "ipython3",
   "version": "3.6.5"
  }
 },
 "nbformat": 4,
 "nbformat_minor": 2
}
