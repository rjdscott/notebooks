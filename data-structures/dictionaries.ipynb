{
 "cells": [
  {
   "cell_type": "markdown",
   "metadata": {},
   "source": [
    "# Data structures - Dictionaries\n",
    "You can think of a dictionary as in terms of a key-value map. At the minimum, dictionaries can contain one key which is mapped to one value. At the maximum, you can have as many key to value pairs so long as the keys are unique.\n",
    "\n",
    "## A basic dictionary example\n",
    "lets set run through a couple examples of setting up a dictionary"
   ]
  },
  {
   "cell_type": "code",
   "execution_count": 1,
   "metadata": {},
   "outputs": [
    {
     "data": {
      "text/plain": [
       "{'key_1': 'value_1', 'key_2': 'value_2', 'key_n': 'vlaue_n'}"
      ]
     },
     "execution_count": 1,
     "metadata": {},
     "output_type": "execute_result"
    }
   ],
   "source": [
    "# the basic structure looks like this\n",
    "dict_basic = {\n",
    "    \"key_1\":\"value_1\",\n",
    "    \"key_2\":\"value_2\",\n",
    "    \"key_n\":\"vlaue_n\"\n",
    "}\n",
    "\n",
    "# lets print the dictionary\n",
    "dict_basic"
   ]
  },
  {
   "cell_type": "markdown",
   "metadata": {},
   "source": [
    "## A more advanced dictionary example\n",
    "Dictionaries can store a variety of data types in the value space. However, the key can only be a string or integer.\n",
    "\n",
    "### A nested dictionary\n",
    "A nested dictionary is a dictionary within a dictionary... where the child dictionaty is assigned to the value of a key:value pair."
   ]
  },
  {
   "cell_type": "code",
   "execution_count": 2,
   "metadata": {},
   "outputs": [
    {
     "data": {
      "text/plain": [
       "{'key_outer_1': {'key_inner_1': 'value_inner_1'},\n",
       " 'key_outer_2': {'key_inner_1': 'value_inner_1'},\n",
       " 'key_outer_n': {'key_inner_1': 'value_inner_1'}}"
      ]
     },
     "execution_count": 2,
     "metadata": {},
     "output_type": "execute_result"
    }
   ],
   "source": [
    "# a basic example below\n",
    "dict_nested = {\n",
    "    \"key_outer_1\":{\"key_inner_1\":\"value_inner_1\"},\n",
    "    \"key_outer_2\":{\"key_inner_1\":\"value_inner_1\"},\n",
    "    \"key_outer_n\":{\"key_inner_1\":\"value_inner_1\"}\n",
    "    \n",
    "}\n",
    "dict_nested"
   ]
  },
  {
   "cell_type": "markdown",
   "metadata": {},
   "source": [
    "## Interacting with dictionaries (methods)\n",
    "Dictionaties have methods that enable interactions with the data structure. some examples would be:\n",
    "* adding\n",
    "* deleting\n",
    "* searching\n",
    "* counting\n",
    "\n",
    "### Adding elements"
   ]
  },
  {
   "cell_type": "code",
   "execution_count": 3,
   "metadata": {},
   "outputs": [
    {
     "data": {
      "text/plain": [
       "{'ticker': 'NAB.ASX',\n",
       " 'price': 28.0,\n",
       " 'volume': 100,\n",
       " 'date': '2018-08-01',\n",
       " 'buy_sell': 'BUY'}"
      ]
     },
     "execution_count": 3,
     "metadata": {},
     "output_type": "execute_result"
    }
   ],
   "source": [
    "# this creates an empty dictionary\n",
    "dict_investment_1 = {\n",
    "\n",
    "}\n",
    "\n",
    "# now we will add a key:value to this dictionary\n",
    "dict_investment_1['ticker'] = \"NAB.ASX\"\n",
    "dict_investment_1['price'] = 28.00\n",
    "dict_investment_1['volume'] = 100\n",
    "dict_investment_1['date'] = '2018-08-01'\n",
    "dict_investment_1['buy_sell'] = \"BUY\"\n",
    "\n",
    "# lets print the dict to see what it looks like\n",
    "dict_investment_1"
   ]
  },
  {
   "cell_type": "code",
   "execution_count": 4,
   "metadata": {},
   "outputs": [
    {
     "data": {
      "text/plain": [
       "{'ticker': 'RIO.ASX',\n",
       " 'price': 73.0,\n",
       " 'volume': 50,\n",
       " 'date': '2018-08-01',\n",
       " 'buy_sell': 'BUY'}"
      ]
     },
     "execution_count": 4,
     "metadata": {},
     "output_type": "execute_result"
    }
   ],
   "source": [
    "# lets create another dictionary\n",
    "dict_investment_2 = {\n",
    "\n",
    "}\n",
    "\n",
    "# now we will add a key:value to this dictionary\n",
    "dict_investment_2['ticker'] = \"RIO.ASX\"\n",
    "dict_investment_2['price'] = 73.00\n",
    "dict_investment_2['volume'] = 50\n",
    "dict_investment_2['date'] = '2018-08-01'\n",
    "dict_investment_2['buy_sell'] = \"BUY\"\n",
    "\n",
    "# lets print the dict to see what it looks like\n",
    "dict_investment_2"
   ]
  },
  {
   "cell_type": "code",
   "execution_count": 5,
   "metadata": {},
   "outputs": [
    {
     "data": {
      "text/plain": [
       "{'NAB.ASX': {'ticker': 'NAB.ASX',\n",
       "  'price': 28.0,\n",
       "  'volume': 100,\n",
       "  'date': '2018-08-01',\n",
       "  'buy_sell': 'BUY'},\n",
       " 'RIO.ASX': {'ticker': 'RIO.ASX',\n",
       "  'price': 73.0,\n",
       "  'volume': 50,\n",
       "  'date': '2018-08-01',\n",
       "  'buy_sell': 'BUY'}}"
      ]
     },
     "execution_count": 5,
     "metadata": {},
     "output_type": "execute_result"
    }
   ],
   "source": [
    "# lets create an empty portfolio dictionaty which\n",
    "# we will use to hold the investments in a nested\n",
    "# dictionary structure\n",
    "dict_portfolio_1 = {\n",
    "}\n",
    "\n",
    "# i'm going to set the key to be the ticker, and\n",
    "# value to the investment dictionaty itself\n",
    "dict_portfolio_1[dict_investment_1['ticker']] = dict_investment_1\n",
    "dict_portfolio_1[dict_investment_2['ticker']] = dict_investment_2\n",
    "\n",
    "# lets print the dictionary\n",
    "dict_portfolio_1"
   ]
  },
  {
   "cell_type": "markdown",
   "metadata": {},
   "source": [
    "## Looping through dictionaries\n",
    "Lets loop over each of the dictionary keys to compute the value of each investment"
   ]
  },
  {
   "cell_type": "code",
   "execution_count": 6,
   "metadata": {},
   "outputs": [
    {
     "name": "stdout",
     "output_type": "stream",
     "text": [
      "NAB.ASX has a value of 2800.0\n",
      "RIO.ASX has a value of 3650.0\n",
      "Portfolio has of value 6450.0\n"
     ]
    }
   ],
   "source": [
    "portfolio_value = 0\n",
    "\n",
    "for ticker, ticker_data in dict_portfolio_1.items():\n",
    "    \n",
    "    # calculate the value of investment by accessing price and volume\n",
    "    investment_value = ticker_data['price'] * ticker_data['volume']\n",
    "    \n",
    "    # lets print the value below\n",
    "    print(\"{} has a value of {}\".format(ticker, investment_value))\n",
    "    \n",
    "    # add investment value to portfolio value\n",
    "    portfolio_value += investment_value\n",
    "\n",
    "# lets print the final portfolio value\n",
    "print(\"Portfolio has of value {}\".format(portfolio_value))"
   ]
  }
 ],
 "metadata": {
  "kernelspec": {
   "display_name": "Python 3",
   "language": "python",
   "name": "python3"
  },
  "language_info": {
   "codemirror_mode": {
    "name": "ipython",
    "version": 3
   },
   "file_extension": ".py",
   "mimetype": "text/x-python",
   "name": "python",
   "nbconvert_exporter": "python",
   "pygments_lexer": "ipython3",
   "version": "3.6.5"
  }
 },
 "nbformat": 4,
 "nbformat_minor": 2
}
