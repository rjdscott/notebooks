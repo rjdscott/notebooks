{
 "cells": [
  {
   "cell_type": "code",
   "execution_count": 22,
   "metadata": {},
   "outputs": [],
   "source": [
    "\"\"\"\n",
    "The Sudoku Problem Formulation for the PuLP Modeller\n",
    "\n",
    "Authors: Antony Phillips, Dr Stuart Mitcehll\n",
    "\"\"\"\n",
    "\n",
    "# Import PuLP modeler functions\n",
    "from pulp import *"
   ]
  },
  {
   "cell_type": "code",
   "execution_count": 23,
   "metadata": {},
   "outputs": [],
   "source": [
    "# A list of strings from \"1\" to \"9\" is created\n",
    "Sequence = [\"1\", \"2\", \"3\", \"4\", \"5\", \"6\", \"7\", \"8\", \"9\"]\n",
    "\n",
    "# The Vals, Rows and Cols sequences all follow this form\n",
    "Vals = Sequence\n",
    "Rows = Sequence\n",
    "Cols = Sequence"
   ]
  },
  {
   "cell_type": "code",
   "execution_count": 24,
   "metadata": {},
   "outputs": [],
   "source": [
    "# The boxes list is created, with the row and column index of each square in each box\n",
    "Boxes =[]\n",
    "for i in range(3):\n",
    "    for j in range(3):\n",
    "        Boxes += [[(Rows[3*i+k],Cols[3*j+l]) for k in range(3) for l in range(3)]]"
   ]
  },
  {
   "cell_type": "code",
   "execution_count": 25,
   "metadata": {},
   "outputs": [],
   "source": [
    "# The prob variable is created to contain the problem data        \n",
    "prob = LpProblem(\"Sudoku Problem\",LpMinimize)"
   ]
  },
  {
   "cell_type": "code",
   "execution_count": 26,
   "metadata": {},
   "outputs": [],
   "source": [
    "# The problem variables are created\n",
    "choices = LpVariable.dicts(\"Choice\",(Vals,Rows,Cols),0,1,LpInteger)"
   ]
  },
  {
   "cell_type": "code",
   "execution_count": 27,
   "metadata": {},
   "outputs": [],
   "source": [
    "# The arbitrary objective function is added\n",
    "prob += 0, \"Arbitrary Objective Function\""
   ]
  },
  {
   "cell_type": "code",
   "execution_count": 28,
   "metadata": {},
   "outputs": [],
   "source": [
    "# A constraint ensuring that only one value can be in each square is created\n",
    "for r in Rows:\n",
    "    for c in Cols:\n",
    "        prob += lpSum([choices[v][r][c] for v in Vals]) == 1, \"\""
   ]
  },
  {
   "cell_type": "code",
   "execution_count": 29,
   "metadata": {},
   "outputs": [],
   "source": [
    "# The row, column and box constraints are added for each value\n",
    "for v in Vals:\n",
    "    for r in Rows:\n",
    "        prob += lpSum([choices[v][r][c] for c in Cols]) == 1,\"\"\n",
    "        \n",
    "    for c in Cols:\n",
    "        prob += lpSum([choices[v][r][c] for r in Rows]) == 1,\"\"\n",
    "\n",
    "    for b in Boxes:\n",
    "        prob += lpSum([choices[v][r][c] for (r,c) in b]) == 1,\"\""
   ]
  },
  {
   "cell_type": "code",
   "execution_count": 30,
   "metadata": {},
   "outputs": [],
   "source": [
    "# The starting numbers are entered as constraints [val][row][col]               \n",
    "prob += choices[\"8\"][\"1\"][\"1\"] == 1,\"\"\n",
    "prob += choices[\"5\"][\"1\"][\"3\"] == 1,\"\"\n",
    "prob += choices[\"3\"][\"1\"][\"5\"] == 1,\"\"\n",
    "prob += choices[\"7\"][\"1\"][\"6\"] == 1,\"\"\n",
    "prob += choices[\"1\"][\"1\"][\"7\"] == 1,\"\"\n",
    "prob += choices[\"2\"][\"1\"][\"9\"] == 1,\"\"\n",
    "prob += choices[\"4\"][\"2\"][\"3\"] == 1,\"\"\n",
    "prob += choices[\"6\"][\"2\"][\"5\"] == 1,\"\"\n",
    "prob += choices[\"8\"][\"3\"][\"4\"] == 1,\"\"\n",
    "prob += choices[\"5\"][\"3\"][\"7\"] == 1,\"\"\n",
    "prob += choices[\"7\"][\"4\"][\"7\"] == 1,\"\"\n",
    "prob += choices[\"8\"][\"4\"][\"9\"] == 1,\"\"\n",
    "prob += choices[\"6\"][\"5\"][\"1\"] == 1,\"\"\n",
    "prob += choices[\"5\"][\"5\"][\"2\"] == 1,\"\"\n",
    "prob += choices[\"3\"][\"5\"][\"8\"] == 1,\"\"\n",
    "prob += choices[\"9\"][\"5\"][\"9\"] == 1,\"\"\n",
    "prob += choices[\"7\"][\"6\"][\"1\"] == 1,\"\"\n",
    "prob += choices[\"1\"][\"6\"][\"3\"] == 1,\"\"\n",
    "prob += choices[\"7\"][\"7\"][\"3\"] == 1,\"\"\n",
    "prob += choices[\"4\"][\"7\"][\"6\"] == 1,\"\"\n",
    "prob += choices[\"2\"][\"8\"][\"5\"] == 1,\"\"\n",
    "prob += choices[\"8\"][\"8\"][\"7\"] == 1,\"\"\n",
    "prob += choices[\"4\"][\"9\"][\"1\"] == 1,\"\"\n",
    "prob += choices[\"9\"][\"9\"][\"3\"] == 1,\"\"\n",
    "prob += choices[\"5\"][\"9\"][\"4\"] == 1,\"\"\n",
    "prob += choices[\"8\"][\"9\"][\"5\"] == 1,\"\"\n",
    "prob += choices[\"6\"][\"9\"][\"7\"] == 1,\"\"\n",
    "prob += choices[\"7\"][\"9\"][\"9\"] == 1,\"\""
   ]
  },
  {
   "cell_type": "code",
   "execution_count": 31,
   "metadata": {},
   "outputs": [
    {
     "name": "stdout",
     "output_type": "stream",
     "text": [
      "('Status:', 'Optimal')\n"
     ]
    }
   ],
   "source": [
    "# The problem data is written to an .lp file\n",
    "prob.writeLP(\"Sudoku.lp\")\n",
    "\n",
    "# The problem is solved using PuLP's choice of Solver\n",
    "prob.solve()\n",
    "\n",
    "# The status of the solution is printed to the screen\n",
    "print(\"Status:\", LpStatus[prob.status])"
   ]
  },
  {
   "cell_type": "code",
   "execution_count": 33,
   "metadata": {},
   "outputs": [
    {
     "name": "stdout",
     "output_type": "stream",
     "text": [
      "('Status:', 'Optimal')\n",
      "('Status:', 'Undefined')\n",
      "Solutions Written to sudokuout.txt\n"
     ]
    }
   ],
   "source": [
    "# A file called sudokuout.txt is created/overwritten for writing to\n",
    "sudokuout = open('sudokuout.txt','w')\n",
    "\n",
    "while True:\n",
    "    prob.solve()\n",
    "    # The status of the solution is printed to the screen\n",
    "    print(\"Status:\", LpStatus[prob.status])\n",
    "    # The solution is printed if it was deemed \"optimal\" i.e met the constraints\n",
    "    if LpStatus[prob.status] == \"Optimal\":\n",
    "        # The solution is written to the sudokuout.txt file\n",
    "        for r in Rows:\n",
    "            if r == \"1\" or r == \"4\" or r == \"7\":\n",
    "                sudokuout.write(\"+-------+-------+-------+\\n\")\n",
    "            for c in Cols:\n",
    "                for v in Vals:\n",
    "                    if value(choices[v][r][c])==1:\n",
    "                        if c == \"1\" or c == \"4\" or c ==\"7\":\n",
    "                            sudokuout.write(\"| \")\n",
    "                        sudokuout.write(v + \" \")\n",
    "                        if c == \"9\":\n",
    "                            sudokuout.write(\"|\\n\")\n",
    "        sudokuout.write(\"+-------+-------+-------+\\n\\n\")\n",
    "        # The constraint is added that the same solution cannot be returned again\n",
    "        prob += lpSum([choices[v][r][c] for v in Vals\n",
    "                                        for r in Rows\n",
    "                                        for c in Cols\n",
    "                                        if value(choices[v][r][c])==1]) <= 80\n",
    "    # If a new optimal solution cannot be found, we end the program\n",
    "    else:\n",
    "        break\n",
    "sudokuout.close()\n",
    "\n",
    "# The location of the solutions is give to the user\n",
    "print(\"Solutions Written to sudokuout.txt\")"
   ]
  }
 ],
 "metadata": {
  "kernelspec": {
   "display_name": "Python 2",
   "language": "python",
   "name": "python2"
  },
  "language_info": {
   "codemirror_mode": {
    "name": "ipython",
    "version": 2
   },
   "file_extension": ".py",
   "mimetype": "text/x-python",
   "name": "python",
   "nbconvert_exporter": "python",
   "pygments_lexer": "ipython2",
   "version": "2.7.10"
  }
 },
 "nbformat": 4,
 "nbformat_minor": 2
}
