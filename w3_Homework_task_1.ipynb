{
 "metadata": {
  "name": "",
  "signature": "sha256:59c099665037fc2b16e19f1c68f22ef2051b1fd0ef527f859fc55dfe134644da"
 },
 "nbformat": 3,
 "nbformat_minor": 0,
 "worksheets": [
  {
   "cells": [
    {
     "cell_type": "code",
     "collapsed": false,
     "input": [
      "import QSTK.qstkutil.qsdateutil as du\n",
      "import QSTK.qstkutil.tsutil as tsu\n",
      "import QSTK.qstkutil.DataAccess as da\n",
      "import numpy as np\n",
      "import time\n",
      "import datetime as dt\n",
      "import matplotlib.pyplot as plt\n",
      "import pandas as pd\n",
      "%matplotlib inline"
     ],
     "language": "python",
     "metadata": {},
     "outputs": [],
     "prompt_number": 278
    },
    {
     "cell_type": "code",
     "collapsed": false,
     "input": [
      "def readData(li_startDate, li_endDate, ls_symbols):\n",
      "    # Deal with the date formatting\n",
      "    dt_start = dt.datetime(li_startDate[0], li_startDate[1], li_startDate[2])\n",
      "    dt_end = dt.datetime(li_endDate[0], li_endDate[1], li_endDate[2])\n",
      "    dt_timeofday = dt.timedelta(hours=16)\n",
      "    ldt_timestamps = du.getNYSEdays(dt_start, dt_end, dt_timeofday)\n",
      "    \n",
      "    #deal with obtaining the data\n",
      "\n",
      "    c_dataobj = da.DataAccess('Yahoo', cachestalltime=0)\n",
      "    ls_keys = ['open', 'high', 'low', 'close', 'volume', 'actual_close']\n",
      "    ldf_data = c_dataobj.get_data(ldt_timestamps, ls_symbols, ls_keys)\n",
      "    d_data = dict(zip(ls_keys, ldf_data))\n",
      "    \n",
      "    # make a callback function to use within the simulate()\n",
      "    return[d_data, dt_start, dt_end, dt_timeofday, ldt_timestamps]\n",
      "\n",
      "def calcStats(na_normalized_price, lf_allocations):\n",
      "    \n",
      "    # Calc cum daily p'folo returns\n",
      "    na_weighted_price = na_normalized_price * lf_allocations\n",
      "    na_portf_value = na_weighted_price.copy().sum(axis=1)\n",
      "    \n",
      "    # calc p'folio daily rets\n",
      "    na_portf_rets = na_portf_value.copy()\n",
      "    tsu.returnize0(na_portf_rets)\n",
      "    \n",
      "    # calc port vol (stdDev)\n",
      "    f_portf_vol = np.std(na_portf_rets)\n",
      "    \n",
      "    # calc ave daily retds\n",
      "    f_portf_averet = np.mean(na_portf_rets)\n",
      "    \n",
      "    # portfolio sharpe\n",
      "    f_portf_sharpe = np.sqrt(252) * (f_portf_averet / f_portf_vol)\n",
      "    \n",
      "    def cumret(t, lf_returns):    # removed the [0] on the end of returns\n",
      "        if t == 0:\n",
      "            return (1 + lf_returns[0])\n",
      "        return (cumret(t-1, lf_returns) * (1 + lf_returns[t]))\n",
      "    \n",
      "    f_portf_cumrets = cumret(na_portf_rets.size - 1, na_portf_rets)\n",
      "    \n",
      "    return [f_portf_vol, f_portf_averet, f_portf_sharpe, f_portf_cumrets, na_portf_value]\n",
      "\n",
      "\n",
      "def simulate(li_startDate, li_endDate, ls_symbols, lf_allocations, b_print):\n",
      "    \n",
      "    start = time.time()\n",
      "    \n",
      "    if len(ls_symbols) != len(lf_allocations):\n",
      "        print 'Error: Make syre symbol and allocation list have same number of elements'\n",
      "        return;\n",
      "    \n",
      "    \n",
      "    sumAllocations = 0\n",
      "    for x in lf_allocations:\n",
      "        sumAllocations += 1\n",
      "    \n",
      "    if sumAllocations != 1:\n",
      "        print 'Allocations must equal 1'\n",
      "    \n",
      "    d_data = readData(li_startDate, li_endDate, ls_symbols)[0]\n",
      "    \n",
      "    na_price = d_data['close'].values\n",
      "    \n",
      "    na_normalized_price = na_price / na_price[0,:]\n",
      "    \n",
      "    lf_stats = calcStats(na_normalized_price, lf_allocations)\n",
      "    \n",
      "    if b_print == True:\n",
      "        print 'Start Date: ', li_startDate\n",
      "        print 'end Date: ', li_endDate\n",
      "        print 'Symbols: ', ls_symbols\n",
      "        print 'Vol (stDev of returns): ', lf_stats[0]\n",
      "        print 'Avg Daily Returns: ', lf_stats[1]\n",
      "        print 'Sharpe Ratio: ', lf_stats[2]\n",
      "        print 'Cumulative Daily Returns: ', lf_stats[3]\n",
      "    \n",
      "        print 'run in', np.round((time.time() - start),4), ' Seconds'\n",
      "        \n",
      "    return lf_stats[0:3]\n",
      "    "
     ],
     "language": "python",
     "metadata": {},
     "outputs": [],
     "prompt_number": 283
    },
    {
     "cell_type": "code",
     "collapsed": false,
     "input": [
      "simulate([2011,1,1], [2011,12,31],['AAPL','GLD','GOOG','XOM'],[0.4,0.4,0.0,0.2],True) \n"
     ],
     "language": "python",
     "metadata": {},
     "outputs": [
      {
       "output_type": "stream",
       "stream": "stdout",
       "text": [
        "Allocations must equal 1\n",
        "Start Date: "
       ]
      },
      {
       "output_type": "stream",
       "stream": "stdout",
       "text": [
        " [2011, 1, 1]\n",
        "end Date:  [2011, 12, 31]\n",
        "Symbols:  ['AAPL', 'GLD', 'GOOG', 'XOM']\n",
        "Vol (stDev of returns):  0.0101467067654\n",
        "Avg Daily Returns:  0.000657261102001\n",
        "Sharpe Ratio:  1.02828403099\n",
        "Cumulative Daily Returns:  1.16487261965\n",
        "run in 0.8653  Seconds\n"
       ]
      },
      {
       "metadata": {},
       "output_type": "pyout",
       "prompt_number": 284,
       "text": [
        "[0.010146706765352471, 0.0006572611020014274, 1.0282840309941454]"
       ]
      }
     ],
     "prompt_number": 284
    },
    {
     "cell_type": "code",
     "collapsed": false,
     "input": [],
     "language": "python",
     "metadata": {},
     "outputs": []
    }
   ],
   "metadata": {}
  }
 ]
}