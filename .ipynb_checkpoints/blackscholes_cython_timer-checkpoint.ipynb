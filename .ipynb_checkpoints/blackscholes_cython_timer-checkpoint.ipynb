{
 "metadata": {
  "name": "",
  "signature": "sha256:8464a6abd0ff43f6de836c9c02e913a52e8c0f044e0b4293afe8ce9c5834a48d"
 },
 "nbformat": 3,
 "nbformat_minor": 0,
 "worksheets": [
  {
   "cells": [
    {
     "cell_type": "heading",
     "level": 6,
     "metadata": {},
     "source": [
      "BLACK SCHOLES MODEL: Cython Optimisation\n",
      "    Book name: blackscholes_cython.py\n",
      "\n",
      "The purpose if this notebook is to:\n",
      "        1. Demonstrate the pricing Model Calculations\n",
      "        2. Variable inputs and Pricing Outputs and Greeks\n",
      "        3. Outline performance measures\n",
      "\n",
      "For Cython optimisation, please refer to blackscholes_cytnon.py (execution performance)\n",
      "For Sensitivity Models, please refer to blackscholes_sensitivity.py (options input sensitivities under this model)\n",
      "\n",
      "Things to complete: \n",
      "        1. theta calculations"
     ]
    },
    {
     "cell_type": "code",
     "collapsed": false,
     "input": [
      "%load_ext cythonmagic"
     ],
     "language": "python",
     "metadata": {},
     "outputs": [
      {
       "output_type": "stream",
       "stream": "stdout",
       "text": [
        "The cythonmagic extension is already loaded. To reload it, use:\n",
        "  %reload_ext cythonmagic\n"
       ]
      }
     ],
     "prompt_number": 96
    },
    {
     "cell_type": "code",
     "collapsed": false,
     "input": [
      "%%cython\n",
      "\n",
      "# 1. PRICING MODEL AND CALCULATION\n",
      "\n",
      "import numpy as np\n",
      "import scipy.stats as ss\n",
      "import math\n",
      "\n",
      "cimport cython\n",
      "cimport numpy as np\n",
      "\n",
      "cdef extern from \"math.h\" nogil:\n",
      "    double exp(double)\n",
      "    double sqrt(double)\n",
      "    double log(double)\n",
      "    double pow(double, double)\n",
      "    double fmax(double, double)\n",
      "\n",
      "    cdef double s, k, r, v, t\n",
      "    cdef int i, j\n",
      "    \n",
      "#############################\n",
      "# Some maths for the Greeks #\n",
      "#############################\n",
      "\n",
      "cdef d_j(j, s, k, r, v, t):\n",
      "    return(log(s/k)+(r+(pow(-1,j-1))*0.5*v*v)*t/(v*pow(t,0.5)))\n",
      "\n",
      "###### Call Specific Greeks ######\n",
      "cdef call_delta(s, k, r, v, t):\n",
      "    return(ss.norm.cdf(d_j(1, s, k, r, v, t)))\n",
      "\n",
      "cdef call_theta(s, k, r, v, t):\n",
      "    return( -(s*ss.norm.pdf(d_j(1, s, k, r, v, t))*v) / (2*sqrt(t)) - r*k*exp(-r*t)*ss.norm.cdf(d_j(2, s, k, r, v,  t)))\n",
      "\n",
      "cdef call_rho(s, k, r, v, t):\n",
      "    return(k*t*exp(-r*t)*ss.norm.cdf(d_j(2, s, k, r, v, t)))\n",
      "\n",
      "###### Put Specific Greeks ######\n",
      "\n",
      "cdef put_delta(s, k, r, v, t):\n",
      "    return(ss.norm.cdf(d_j(1, s, k, r, v, t))-1)\n",
      "\n",
      "cdef put_theta(s, k, r, v, t):\n",
      "    return -(s*ss.norm.pdf(d_j(1, s, k, r, v, t))*v) / (2*sqrt(t)) + (r*k*exp(-r*t)*ss.norm.cdf(-d_j(2, s, k, r, v, t)))\n",
      "\n",
      "cdef put_rho(s, k, r, v, t):\n",
      "    return(-t*k*exp(-r*t)*ss.norm.cdf(-d_j(2, s, k, r, v, t)))\n",
      "\n",
      "###### Constant Greeks ######\n",
      "\n",
      "cdef gamma(s, k, r, v, t):\n",
      "    return(ss.norm.pdf(d_j(1, s, k, r, v, t))/(s*v*sqrt(t)))\n",
      "\n",
      "cdef vega(s, k, r, v, t):\n",
      "    return(s*ss.norm.pdf(d_j(1, s, k, r, v, t))*sqrt(t))\n",
      "\n",
      "#####################################\n",
      "# black and scholes pricing Formula #\n",
      "#####################################\n",
      "cdef d1(s, k, r, v, t):\n",
      "    return(log(s/k)+(r+0.5*(v**2))*t)/(v*sqrt(t))\n",
      "\n",
      "cdef d2(s, k, r, v, t):\n",
      "    return((log(s/k)+(r+0.5*(v**2))*t)/(v*sqrt(t))) - (v*sqrt(t))\n",
      "\n",
      "cdef blackscholes(type, s, k, r, v, t):\n",
      "    \n",
      "    if type=='C':\n",
      "        return s * ss.norm.cdf(d1(s, k, r, v, t)) - k * exp(-r*t) * ss.norm.cdf(d2(s, k, r, v, t))\n",
      "    \n",
      "    else:\n",
      "        return k * exp(-r*t)*ss.norm.cdf(-d2(s, k, r, v, t)) - s * ss.norm.cdf(-d1(s, k, r, v, t)) \n",
      "\n",
      "\n",
      "    "
     ],
     "language": "python",
     "metadata": {},
     "outputs": [],
     "prompt_number": 97
    },
    {
     "cell_type": "code",
     "collapsed": false,
     "input": [
      "# 2. DEPENDANT VARIABLES AND OUTPUTS\n",
      "\n",
      "s = 100.0\n",
      "k = 100.0\n",
      "r = 0.05\n",
      "v = 0.20\n",
      "t = 1.0\n",
      "\n",
      "###### Black Scholes Call Pricer ######\n",
      "absc = blackscholes('C', s, k, r, v, t)\n",
      "\n",
      "###### Black Scholes Put Pricer ######\n",
      "absp = blackscholes('P', s, k, r, v, t)\n",
      "\n",
      "###### The Greeks ######\n",
      "cdelta = call_delta(s, k, r, v, t)\n",
      "pdelta = put_delta(s, k, r, v, t)\n",
      "gamma = gamma(s, k, r, v, t)\n",
      "vega = vega(s, k, r, v, t)\n",
      "ctheta = call_theta(s, k, r, v, t)\n",
      "ptheta = put_theta(s, k, r, v, t)\n",
      "crho = call_rho(s, k, r, v, t)\n",
      "prho = put_rho(s, k, r, v, t)    \n",
      "\n",
      "print 'American:  Call Price  $' + str(round(absc,3)) + '    Put Price   $' + str(round(absp,3))\n",
      "print '           Call Delta    ' + str(round(cdelta,3)) + '    Put Delta   ' + str(round(pdelta,3))\n",
      "print '           Call Gamma    ' + str(round(gamma,3)) + '    Put Gamma    ' + str(round(gamma,3))\n",
      "print '           Call Vega    ' + str(round(vega,3)) + '    Put Vega    ' + str(round(vega,3))\n",
      "print '           Call Theta   ' + str(round(ctheta,3)) + '    Put Theta   ' + str(round(ptheta,3))\n",
      "print '           Call Rho     ' + str(round(crho,3)) + '    Put Rho    ' + str(round(prho,3))"
     ],
     "language": "python",
     "metadata": {},
     "outputs": [
      {
       "ename": "TypeError",
       "evalue": "'numpy.float64' object is not callable",
       "output_type": "pyerr",
       "traceback": [
        "\u001b[0;31m---------------------------------------------------------------------------\u001b[0m\n\u001b[0;31mTypeError\u001b[0m                                 Traceback (most recent call last)",
        "\u001b[0;32m<ipython-input-98-7527cc5fe918>\u001b[0m in \u001b[0;36m<module>\u001b[0;34m()\u001b[0m\n\u001b[1;32m     16\u001b[0m \u001b[0mcdelta\u001b[0m \u001b[0;34m=\u001b[0m \u001b[0mcall_delta\u001b[0m\u001b[0;34m(\u001b[0m\u001b[0ms\u001b[0m\u001b[0;34m,\u001b[0m \u001b[0mk\u001b[0m\u001b[0;34m,\u001b[0m \u001b[0mr\u001b[0m\u001b[0;34m,\u001b[0m \u001b[0mv\u001b[0m\u001b[0;34m,\u001b[0m \u001b[0mt\u001b[0m\u001b[0;34m)\u001b[0m\u001b[0;34m\u001b[0m\u001b[0m\n\u001b[1;32m     17\u001b[0m \u001b[0mpdelta\u001b[0m \u001b[0;34m=\u001b[0m \u001b[0mput_delta\u001b[0m\u001b[0;34m(\u001b[0m\u001b[0ms\u001b[0m\u001b[0;34m,\u001b[0m \u001b[0mk\u001b[0m\u001b[0;34m,\u001b[0m \u001b[0mr\u001b[0m\u001b[0;34m,\u001b[0m \u001b[0mv\u001b[0m\u001b[0;34m,\u001b[0m \u001b[0mt\u001b[0m\u001b[0;34m)\u001b[0m\u001b[0;34m\u001b[0m\u001b[0m\n\u001b[0;32m---> 18\u001b[0;31m \u001b[0mgamma\u001b[0m \u001b[0;34m=\u001b[0m \u001b[0mgamma\u001b[0m\u001b[0;34m(\u001b[0m\u001b[0ms\u001b[0m\u001b[0;34m,\u001b[0m \u001b[0mk\u001b[0m\u001b[0;34m,\u001b[0m \u001b[0mr\u001b[0m\u001b[0;34m,\u001b[0m \u001b[0mv\u001b[0m\u001b[0;34m,\u001b[0m \u001b[0mt\u001b[0m\u001b[0;34m)\u001b[0m\u001b[0;34m\u001b[0m\u001b[0m\n\u001b[0m\u001b[1;32m     19\u001b[0m \u001b[0mvega\u001b[0m \u001b[0;34m=\u001b[0m \u001b[0mvega\u001b[0m\u001b[0;34m(\u001b[0m\u001b[0ms\u001b[0m\u001b[0;34m,\u001b[0m \u001b[0mk\u001b[0m\u001b[0;34m,\u001b[0m \u001b[0mr\u001b[0m\u001b[0;34m,\u001b[0m \u001b[0mv\u001b[0m\u001b[0;34m,\u001b[0m \u001b[0mt\u001b[0m\u001b[0;34m)\u001b[0m\u001b[0;34m\u001b[0m\u001b[0m\n\u001b[1;32m     20\u001b[0m \u001b[0mctheta\u001b[0m \u001b[0;34m=\u001b[0m \u001b[0mcall_theta\u001b[0m\u001b[0;34m(\u001b[0m\u001b[0ms\u001b[0m\u001b[0;34m,\u001b[0m \u001b[0mk\u001b[0m\u001b[0;34m,\u001b[0m \u001b[0mr\u001b[0m\u001b[0;34m,\u001b[0m \u001b[0mv\u001b[0m\u001b[0;34m,\u001b[0m \u001b[0mt\u001b[0m\u001b[0;34m)\u001b[0m\u001b[0;34m\u001b[0m\u001b[0m\n",
        "\u001b[0;31mTypeError\u001b[0m: 'numpy.float64' object is not callable"
       ]
      }
     ],
     "prompt_number": 98
    },
    {
     "cell_type": "code",
     "collapsed": false,
     "input": [
      "# 3. PERFORMANCE MEASURES\n",
      "\n",
      "print 'American Call execution runtime:'\n",
      "%timeit absc\n",
      "print 'American Put execution runtime:'\n",
      "%timeit absp\n",
      "print 'Delta execution runtime:'\n",
      "%timeit cdelta\n",
      "print 'theta execution runtime:'\n",
      "%timeit ctheta\n",
      "print 'Gamma Put execution runtime:'\n",
      "%timeit gamma\n",
      "print 'Rho Put execution runtime:'\n",
      "%timeit crho\n"
     ],
     "language": "python",
     "metadata": {},
     "outputs": [
      {
       "output_type": "stream",
       "stream": "stdout",
       "text": [
        "American Call execution runtime:\n",
        "10000000 loops, best of 3: 39.5 ns per loop"
       ]
      },
      {
       "output_type": "stream",
       "stream": "stdout",
       "text": [
        "\n",
        "American Put execution runtime:\n",
        "10000000 loops, best of 3: 35.2 ns per loop"
       ]
      },
      {
       "output_type": "stream",
       "stream": "stdout",
       "text": [
        "\n",
        "Delta execution runtime:\n",
        "10000000 loops, best of 3: 36.5 ns per loop"
       ]
      },
      {
       "output_type": "stream",
       "stream": "stdout",
       "text": [
        "\n",
        "theta execution runtime:\n",
        "10000000 loops, best of 3: 35.5 ns per loop"
       ]
      },
      {
       "output_type": "stream",
       "stream": "stdout",
       "text": [
        "\n",
        "Gamma Put execution runtime:\n",
        "10000000 loops, best of 3: 35.2 ns per loop"
       ]
      },
      {
       "output_type": "stream",
       "stream": "stdout",
       "text": [
        "\n",
        "Rho Put execution runtime:\n",
        "10000000 loops, best of 3: 35.2 ns per loop"
       ]
      },
      {
       "output_type": "stream",
       "stream": "stdout",
       "text": [
        "\n"
       ]
      }
     ],
     "prompt_number": 99
    },
    {
     "cell_type": "code",
     "collapsed": false,
     "input": [],
     "language": "python",
     "metadata": {},
     "outputs": []
    },
    {
     "cell_type": "code",
     "collapsed": false,
     "input": [],
     "language": "python",
     "metadata": {},
     "outputs": []
    }
   ],
   "metadata": {}
  }
 ]
}