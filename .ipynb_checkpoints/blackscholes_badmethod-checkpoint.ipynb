{
 "metadata": {
  "name": "",
  "signature": "sha256:8779732a1608af3ab6ec7982d8791bcfe72b89feb6db69cc12727dd3ca14db60"
 },
 "nbformat": 3,
 "nbformat_minor": 0,
 "worksheets": [
  {
   "cells": [
    {
     "cell_type": "code",
     "collapsed": false,
     "input": [
      "from math import *\n",
      "\n",
      "# Cumulative normal distribution\n",
      "\n",
      "def CND(X):\n",
      "\n",
      "    (a1,a2,a3,a4,a5) = (0.31938153, -0.356563782, 1.781477937, -1.821255978, 1.330274429) \n",
      "    \n",
      "    L = abs(X)\n",
      "    K = 1.0 / (1.0 + 0.2316419 * L)\n",
      "    w = 1.0 - 1.0 / sqrt(2*pi)*exp(-L*L/2.) * (a1*K + a2*K*K + a3*pow(K,3) + a4*pow(K,4) + a5*pow(K,5))\n",
      "    \n",
      "    if X<0:\n",
      "        w = 1.0-w\n",
      "    return w\n",
      "    \n",
      "# Black Sholes Function\n",
      "\n",
      "def BlackSholes(CallPutFlag,S,X,T,r,v):\n",
      "\n",
      "    d1 = (log(S/X)+(r+v*v/2.)*T)/(v*sqrt(T))\n",
      "    d2 = d1-v*sqrt(T)\n",
      "    \n",
      "    if CallPutFlag=='c':\n",
      "        return S*CND(d1)-X*exp(-r*T)*CND(d2)\n",
      "    else:\n",
      "        return X*exp(-r*T)*CND(-d2)-S*CND(-d1)"
     ],
     "language": "python",
     "metadata": {},
     "outputs": [],
     "prompt_number": 2
    },
    {
     "cell_type": "code",
     "collapsed": false,
     "input": [
      "S = 100.0\n",
      "X = 100.0\n",
      "r = 0.03\n",
      "v = 0.30\n",
      "t = 1.0\n",
      "type = 'c'\n",
      "\n",
      "cbs = BlackSholes(type,S,X,t,r,v)\n",
      "\n",
      "print cbs"
     ],
     "language": "python",
     "metadata": {},
     "outputs": [
      {
       "output_type": "stream",
       "stream": "stdout",
       "text": [
        "13.2833098836\n"
       ]
      }
     ],
     "prompt_number": 3
    },
    {
     "cell_type": "code",
     "collapsed": false,
     "input": [],
     "language": "python",
     "metadata": {},
     "outputs": []
    }
   ],
   "metadata": {}
  }
 ]
}