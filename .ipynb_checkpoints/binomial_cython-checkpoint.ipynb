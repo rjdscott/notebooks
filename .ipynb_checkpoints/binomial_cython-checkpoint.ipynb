{
 "metadata": {
  "name": "",
  "signature": "sha256:f9edbae2c833c231bb5e182d9e62f214048a3ddb4c7eb8f9873ff05a60a72a82"
 },
 "nbformat": 3,
 "nbformat_minor": 0,
 "worksheets": [
  {
   "cells": [
    {
     "cell_type": "markdown",
     "metadata": {},
     "source": [
      "---\n",
      "# BINOMIAL PRICING TREE: Optimised Performance Model (Cython)\n",
      "---\n",
      "#### The purpose if this notebook is to\n",
      "<ol> \n",
      "    <li> Demonstrate the pricing Model Calculations</li>\n",
      "    <li> Variable inputs, Pricing Outputs and Computational Performance</li>\n",
      " </ol>"
     ]
    },
    {
     "cell_type": "markdown",
     "metadata": {},
     "source": [
      "For a basic Python model of this algorythim, please refer to the binomial_python.ipynb\n"
     ]
    },
    {
     "cell_type": "markdown",
     "metadata": {},
     "source": [
      "---\n",
      "## 1. Pricing Algorythm"
     ]
    },
    {
     "cell_type": "markdown",
     "metadata": {},
     "source": [
      "Firstly, to notify IPython Notebook that you will be compiling the python code into C, you will need to load 'cythonmagic'. This is specific to IPython Notebook however and purposly skips having to use pyximport for manual compilation"
     ]
    },
    {
     "cell_type": "code",
     "collapsed": false,
     "input": [
      "%load_ext cythonmagic"
     ],
     "language": "python",
     "metadata": {},
     "outputs": [],
     "prompt_number": 3
    },
    {
     "cell_type": "markdown",
     "metadata": {},
     "source": [
      "Once imported you will have to use the '%%cython' command. This lets Ipython know that this specific file will be compiling C calls.\n",
      "Note also that to import a Cython library you use 'cimport' and when declaring functions you use 'cdef'. This directs the compiler to force conversions on the given declarations."
     ]
    },
    {
     "cell_type": "code",
     "collapsed": false,
     "input": [
      "%%cython\n",
      "\n",
      "import numpy as np\n",
      "import math\n",
      "from timeit import default_timer as timer\n",
      "\n",
      "cimport numpy as np\n",
      "cimport cython\n",
      "\n",
      "cdef extern from \"math.h\" nogil:\n",
      "    double exp(double)\n",
      "    double sqrt(double)\n",
      "    double pow(double, double)\n",
      "    double fmax(double, double)\n",
      "    \n",
      "def binomial(double s, double k, double t, double v, double r, double cp, int am, int n):\n",
      "    \n",
      "    cdef double h, u, d, drift, q\n",
      "    cdef int i, j, m\n",
      "    cdef np.ndarray[np.double_t, ndim=2] stkval = np.zeros((n+1,n+1))\n",
      "    cdef np.ndarray[np.double_t, ndim=2] optval = np.zeros((n+1,n+1))\n",
      "    \n",
      "    ###### Basic Calculations ######\n",
      "    h = t/n\n",
      "    u = exp((r-0.5*pow(v,2))*h+v*sqrt(h))\n",
      "    d = exp((r-0.5*pow(v,2))*h-v*sqrt(h))\n",
      "    drift = exp(r*h)\n",
      "    q = (drift-d)/(u-d)\n",
      "    \n",
      "    ###### Process the terminal stock price ######\n",
      "    stkval = np.zeros((n+1,n+1))\n",
      "    optval = np.zeros((n+1,n+1))\n",
      "    stkval[0,0] = s\n",
      "    \n",
      "    for i in range (1,n+1):\n",
      "        stkval[i,0] = stkval[i-1,0]*u\n",
      "        for j in range(1,i+1):\n",
      "            stkval[i,j] = stkval[i-1,j-1]*d\n",
      "    \n",
      "    ####### backward recursion for option price ######\n",
      "    for j in range(n+1):\n",
      "        optval[n,j] = max(0,cp*(stkval[n,j]-k))\n",
      "    for i in range(n-1,-1,-1):\n",
      "        for j in range(i+1):\n",
      "            optval[i,j] = (q*optval[i+1,j]+(1-q)*optval[i+1,j+1])/drift\n",
      "               \n",
      "            if am:\n",
      "                optval[i,j] = max(optval[i,j],cp*(stkval[i,j]-k)) \n",
      " \n",
      "    return optval[0,0]\n",
      "      "
     ],
     "language": "python",
     "metadata": {},
     "outputs": [],
     "prompt_number": 6
    },
    {
     "cell_type": "markdown",
     "metadata": {},
     "source": [
      "---\n",
      "## 2. Variable Inputs, Results and Computational Performance"
     ]
    },
    {
     "cell_type": "markdown",
     "metadata": {},
     "source": [
      "In this section we do not require any C optimisation, this the %%cython function is not inserted."
     ]
    },
    {
     "cell_type": "code",
     "collapsed": false,
     "input": [
      "# 2. Variable inputs and Pricing outputs\n",
      "\n",
      "s = 100.0      # stock price\n",
      "k = 100.0      # strike price\n",
      "t = 1.0        # time\n",
      "v = 0.3        # volatility\n",
      "r = 0.03       # risk free rate\n",
      "               # cp : call/put (+1/-1)\n",
      "               # am : american option True/False\n",
      "n = 1000       # number of iterations\n",
      "\n",
      "ts = timer()\n",
      "\n",
      "# American options (put/call)\n",
      "abnc = binomial(s, k, t, v, r, 1, True, n)\n",
      "abnp = binomial(s, k, t, v, r, -1, True, n)\n",
      "\n",
      "# Erpoean options (put/call)\n",
      "ebnc = binomial(s, k, t, v, r, 1, False, n)\n",
      "ebnp = binomial(s, k, t, v, r, -1, False, n)\n",
      "\n",
      "te = timer()\n",
      "elapsed = te - ts\n",
      "\n",
      "print 'Variable Inputs:'\n",
      "print ''\n",
      "fmt = '%20s: %s'\n",
      "print fmt % ('Stock Price', np.mean(s))\n",
      "print fmt % ('Strike Price', np.mean(k))\n",
      "print fmt % ('Risk-Free Interest', np.mean(r))\n",
      "print fmt % ('Volatility', '%.2f' % np.mean(v))\n",
      "print fmt % ('Maturity', t)\n",
      "print fmt % ('Iterations', n)\n",
      "print ''\n",
      "print 'Option Prices:'\n",
      "print ''\n",
      "print 'American:  Call $' + str(round(abnc,4)) + '  Put $' + str(round(abnp,4))\n",
      "print 'European:  Call $' + str(round(ebnc,4)) + '  Put $' + str(round(ebnp,4))\n",
      "print ''\n",
      "print 'Performance Result:'\n",
      "print ''\n",
      "fmt = '%20s: %s'\n",
      "print fmt % ('Compute Time', '%.6fs' % (te - ts))\n",
      "print fmt % ('Iterations/Second', '%.1f' % (n / elapsed))"
     ],
     "language": "python",
     "metadata": {},
     "outputs": [
      {
       "output_type": "stream",
       "stream": "stdout",
       "text": [
        "Variable Inputs:\n",
        "\n",
        "         Stock Price: 100.0\n",
        "        Strike Price: 100.0\n",
        "  Risk-Free Interest: 0.03\n",
        "          Volatility: 0.30\n",
        "            Maturity: 1.0\n",
        "          Iterations: 1000\n",
        "\n",
        "Option Prices:\n",
        "\n",
        "American:  Call $13.2841  Put $10.6098\n",
        "European:  Call $13.2841  Put $10.3287\n",
        "\n",
        "Performance Result:\n",
        "\n",
        "        Compute Time: 0.041863s\n",
        "   Iterations/Second: 23887.5\n"
       ]
      }
     ],
     "prompt_number": 7
    }
   ],
   "metadata": {}
  }
 ]
}