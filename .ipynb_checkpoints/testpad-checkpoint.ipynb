{
 "metadata": {
  "name": "",
  "signature": "sha256:e53c8aa7d5df66dff373796ac784814e300501fae29d86b662d7e87f196a07e2"
 },
 "nbformat": 3,
 "nbformat_minor": 0,
 "worksheets": []
}