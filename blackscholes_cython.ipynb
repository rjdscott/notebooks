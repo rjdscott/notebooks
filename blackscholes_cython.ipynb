{
 "metadata": {
  "name": "",
  "signature": "sha256:0e3cb09ead65288f2904a2f83a67cb172108ad6b23b62961ba99e18593501520"
 },
 "nbformat": 3,
 "nbformat_minor": 0,
 "worksheets": [
  {
   "cells": [
    {
     "cell_type": "markdown",
     "metadata": {
      "slideshow": {
       "slide_type": "slide"
      }
     },
     "source": [
      "---\n",
      "# Black Scholes Option Model: Optimised Performance Model (Cython)\n",
      "---\n",
      "#### The purpose if this notebook is to\n",
      "<ol> \n",
      "    <li> Demonstrate the pricing Model Calculations</li>\n",
      "    <li> Variable inputs, Pricing Outputs and Computational Performance</li>\n",
      " </ol>"
     ]
    },
    {
     "cell_type": "markdown",
     "metadata": {
      "slideshow": {
       "slide_type": "slide"
      }
     },
     "source": [
      "For a basic Python model of this algorythim, please refer to the blackscholes_python.ipynb\n"
     ]
    },
    {
     "cell_type": "markdown",
     "metadata": {
      "slideshow": {
       "slide_type": "slide"
      }
     },
     "source": [
      "---\n",
      "### Background on Black Scholes \n",
      "Wikipedia best describes this subject as: The Black-Scholes or Black-Scholes-Merton model is a mathematical model of a financial market containing certain derivative investment instruments. From the model, one can deduce the Black-Scholes formula, which gives a theoretical estimate of the price of a European-Style option.\n",
      "\n",
      "the model was first published by Fischer Black and Myron Scholes in their 1973 paper, \"The pricing of Options and Corporate Liabilities\", published by the Journal od Political Economy. They derived a partial differentiation equation, now called the Black-Scholes Equation, which estimates the price of an option over time.\n",
      "\n",
      "Robert C. Merton was the first to publish a paper expanding the mathematical understanding of the option pricing model, and coined the term \"Black-Scholes option pricing model\". Merton and Scholes Received the 1997 Nobel Prize in Economics for their work."
     ]
    },
    {
     "cell_type": "markdown",
     "metadata": {
      "slideshow": {
       "slide_type": "slide"
      }
     },
     "source": [
      "### The Formula\n",
      "Blackscholes Call formula:\n",
      "$$ c = SN(d_1) - Ke^{-rt} N(d_2) $$\n",
      "\n",
      "\n",
      "Blackscholes Put formula:\n",
      "$$ c = Ke^{-rt} N(-d_2) - SN(-d_1) $$\n",
      "\n",
      "$d_1$ and $d_2$ Calculations:\n",
      "$$d_1 = \\frac{\\ln(S/K) + (r + 0.5\\sigma^2)T}{\\sigma \\sqrt{T}}, d_2 = d_1 - \\sigma \\sqrt T$$\n",
      "\n",
      "Where:\n",
      "\n",
      "- $S$ is the stock price\n",
      "- $K$ is the option strike price\n",
      "- $T$ is time to maturity\n",
      "- $r$ is the risk free interest rate\n",
      "- $\\sigma$ is the implied volatility"
     ]
    },
    {
     "cell_type": "markdown",
     "metadata": {
      "slideshow": {
       "slide_type": "slide"
      }
     },
     "source": [
      "---\n",
      "## 1. Pricing Algorythm"
     ]
    },
    {
     "cell_type": "markdown",
     "metadata": {
      "slideshow": {
       "slide_type": "slide"
      }
     },
     "source": [
      "Firstly, to notify IPython Notebook that you will be compiling the python code into C, you will need to load 'cythonmagic'. This is specific to IPython Notebook however and purposly skips having to use pyximport for manual compilation"
     ]
    },
    {
     "cell_type": "code",
     "collapsed": false,
     "input": [
      "%reload_ext cythonmagic"
     ],
     "language": "python",
     "metadata": {
      "slideshow": {
       "slide_type": "slide"
      }
     },
     "outputs": [],
     "prompt_number": 4
    },
    {
     "cell_type": "markdown",
     "metadata": {
      "slideshow": {
       "slide_type": "slide"
      }
     },
     "source": [
      "Once imported you will have to use the '%%cython' command. This lets Ipython know that this specific file will be compiling C calls.\n",
      "Note also that to import a Cython library you use 'cimport' and when declaring functions you use 'cdef'. This directs the compiler to force conversions on the given declarations."
     ]
    },
    {
     "cell_type": "code",
     "collapsed": false,
     "input": [
      "%%cython\n",
      "\n",
      "# 1. PRICING MODEL AND CALCULATION\n",
      "\n",
      "import numpy as np\n",
      "import scipy.stats as ss\n",
      "import math\n",
      "from timeit import default_timer as timer\n",
      "\n",
      "cimport cython\n",
      "cimport numpy as np\n",
      "\n",
      "cdef extern from \"math.h\" nogil:\n",
      "    double exp(double)\n",
      "    double sqrt(double)\n",
      "    double log(double)\n",
      "    double pow(double, double)\n",
      "    double fmax(double, double)\n",
      "\n",
      "    cdef double s, k, r, v, t\n",
      "    cdef int i, j\n",
      "    \n",
      "#############################\n",
      "# Some maths for the Greeks #\n",
      "#############################\n",
      "\n",
      "cdef d_j(j, s, k, r, v, t):\n",
      "    return(log(s/k)+(r+(pow(-1,j-1))*0.5*v*v)*t/(v*pow(t,0.5)))\n",
      "\n",
      "###### Call Specific Greeks ######\n",
      "cdef call_delta(s, k, r, v, t):\n",
      "    return(ss.norm.cdf(d_j(1, s, k, r, v, t)))\n",
      "\n",
      "cdef call_theta(s, k, r, v, t):\n",
      "    return( -(s*ss.norm.pdf(d_j(1, s, k, r, v, t))*v) / (2*sqrt(t)) - r*k*exp(-r*t)*ss.norm.cdf(d_j(2, s, k, r, v,  t)))\n",
      "\n",
      "cdef call_rho(s, k, r, v, t):\n",
      "    return(k*t*exp(-r*t)*ss.norm.cdf(d_j(2, s, k, r, v, t)))\n",
      "\n",
      "###### Put Specific Greeks ######\n",
      "\n",
      "cdef put_delta(s, k, r, v, t):\n",
      "    return(ss.norm.cdf(d_j(1, s, k, r, v, t))-1)\n",
      "\n",
      "cdef put_theta(s, k, r, v, t):\n",
      "    return -(s*ss.norm.pdf(d_j(1, s, k, r, v, t))*v) / (2*sqrt(t)) + (r*k*exp(-r*t)*ss.norm.cdf(-d_j(2, s, k, r, v, t)))\n",
      "\n",
      "cdef put_rho(s, k, r, v, t):\n",
      "    return(-t*k*exp(-r*t)*ss.norm.cdf(-d_j(2, s, k, r, v, t)))\n",
      "\n",
      "###### Constant Greeks ######\n",
      "\n",
      "def gamma(s, k, r, v, t):\n",
      "    return(ss.norm.pdf(d_j(1, s, k, r, v, t))/(s*v*np.sqrt(t)))\n",
      "\n",
      "def vega(s, k, r, v, t):\n",
      "    return(s*ss.norm.pdf(d_j(1, s, k, r, v, t))*sqrt(t))\n",
      "\n",
      "#####################################\n",
      "# black and scholes pricing Formula #\n",
      "#####################################\n",
      "cdef d1(s, k, r, v, t):\n",
      "    return(log(s/k)+(r+0.5*(v**2))*t)/(v*sqrt(t))\n",
      "\n",
      "cdef d2(s, k, r, v, t):\n",
      "    return((log(s/k)+(r+0.5*(v**2))*t)/(v*sqrt(t))) - (v*sqrt(t))\n",
      "\n",
      "cdef blackscholes(type, s, k, r, v, t):\n",
      "    if type=='C':\n",
      "        return s * ss.norm.cdf(d1(s, k, r, v, t)) - k * exp(-r*t) * ss.norm.cdf(d2(s, k, r, v, t))\n",
      "    \n",
      "    else:\n",
      "        return k * exp(-r*t)*ss.norm.cdf(-d2(s, k, r, v, t)) - s * ss.norm.cdf(-d1(s, k, r, v, t)) \n",
      " "
     ],
     "language": "python",
     "metadata": {
      "slideshow": {
       "slide_type": "slide"
      }
     },
     "outputs": [],
     "prompt_number": 15
    },
    {
     "cell_type": "markdown",
     "metadata": {},
     "source": [
      "---\n",
      "## 2. Variable Inputs, Results and Computational Performance"
     ]
    },
    {
     "cell_type": "markdown",
     "metadata": {},
     "source": [
      "In this section we do not require any C optimisation, this the %%cython function is not inserted."
     ]
    },
    {
     "cell_type": "code",
     "collapsed": false,
     "input": [
      "# 2. DEPENDANT VARIABLES AND OUTPUTS\n",
      "\n",
      "s = 100.0\n",
      "k = 100.0\n",
      "r = 0.03\n",
      "v = 0.30\n",
      "t = 1.0\n",
      "\n",
      "ts = timer()\n",
      "###### Black Scholes Call Pricer ######\n",
      "absc = blackscholes('C', s, k, r, v, t)\n",
      "\n",
      "###### Black Scholes Put Pricer ######\n",
      "absp = blackscholes('P', s, k, r, v, t)\n",
      "\n",
      "###### The Greeks ######\n",
      "cdelta = call_delta(s, k, r, v, t)\n",
      "pdelta = put_delta(s, k, r, v, t)\n",
      "gamma = gamma(s, k, r, v, t)\n",
      "vega = vega(s, k, r, v, t)\n",
      "ctheta = call_theta(s, k, r, v, t)\n",
      "ptheta = put_theta(s, k, r, v, t)\n",
      "crho = call_rho(s, k, r, v, t)\n",
      "prho = put_rho(s, k, r, v, t)    \n",
      "\n",
      "te = timer()\n",
      "elapsed = te - ts\n",
      "\n",
      "print 'Result'\n",
      "fmt = '%20s: %s'\n",
      "print fmt % ('Stock Price', np.mean(s))\n",
      "print fmt % ('Strike Price', np.mean(k))\n",
      "print fmt % ('Risk-Free Interest', np.mean(r))\n",
      "print fmt % ('Volatility', '%.2f' % np.mean(v))\n",
      "print fmt % ('Maturity', t)\n",
      "\n",
      "print 'Pricing Outputs'\n",
      "fmt = '%20s: %s'\n",
      "print ''\n",
      "print 'American:  Call Price  $' + str(round(absc,3)) + '    Put Price   $' + str(round(absp,3))\n",
      "print '           Call Delta    ' + str(round(cdelta,3)) + '    Put Delta   ' + str(round(pdelta,3))\n",
      "print '           Call Gamma    ' + str(round(gamma,3)) + '    Put Gamma    ' + str(round(gamma,3))\n",
      "print '           Call Vega    ' + str(round(vega,3)) + '    Put Vega    ' + str(round(vega,3))\n",
      "print '           Call Theta   ' + str(round(ctheta,3)) + '    Put Theta   ' + str(round(ptheta,3))\n",
      "print '           Call Rho     ' + str(round(crho,3)) + '    Put Rho    ' + str(round(prho,3))\n",
      "\n",
      "print 'Performance'\n",
      "fmt = '%20s: %s'\n",
      "print fmt % ('Compute Time', '%.6fs' % (te - ts))"
     ],
     "language": "python",
     "metadata": {},
     "outputs": [
      {
       "output_type": "stream",
       "stream": "stdout",
       "text": [
        "Result\n",
        "         Stock Price: 100.0\n",
        "        Strike Price: 100.0\n",
        "  Risk-Free Interest: 0.03\n",
        "          Volatility: 0.30\n",
        "            Maturity: 1.0\n",
        "Pricing Outputs\n",
        "\n",
        "American:  Call Price  $13.283    Put Price   $10.328\n",
        "           Call Delta    0.599    Put Delta   -0.401\n",
        "           Call Gamma    0.013    Put Gamma    0.013\n",
        "           Call Vega    38.667    Put Vega    38.667\n",
        "           Call Theta   -7.198    Put Theta   -4.286\n",
        "           Call Rho     46.587    Put Rho    -50.457\n",
        "Performance\n",
        "        Compute Time: 0.003161s\n"
       ]
      }
     ],
     "prompt_number": 16
    },
    {
     "cell_type": "code",
     "collapsed": false,
     "input": [],
     "language": "python",
     "metadata": {},
     "outputs": []
    }
   ],
   "metadata": {}
  }
 ]
}